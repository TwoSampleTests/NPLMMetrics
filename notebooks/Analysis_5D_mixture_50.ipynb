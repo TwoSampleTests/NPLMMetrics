{
 "cells": [
  {
   "cell_type": "markdown",
   "metadata": {},
   "source": [
    "# Initialize\n"
   ]
  },
  {
   "cell_type": "code",
   "execution_count": 1,
   "metadata": {},
   "outputs": [
    {
     "name": "stdout",
     "output_type": "stream",
     "text": [
      "/leonardo_scratch/fast/INF24_pmlhep_1/sgrossi0/projects/TwoSampleTest/NPLMMetrics\n"
     ]
    },
    {
     "name": "stderr",
     "output_type": "stream",
     "text": [
      "/leonardo_scratch/fast/INF24_pmlhep_1/envs/tf2_custom_torch2.2/lib/python3.11/site-packages/IPython/core/magics/osm.py:417: UserWarning: This is now an optional IPython functionality, setting dhist requires you to install the `pickleshare` library.\n",
      "  self.shell.db['dhist'] = compress_dhist(dhist)[-100:]\n"
     ]
    }
   ],
   "source": [
    "%cd \"/leonardo_scratch/fast/INF24_pmlhep_1/sgrossi0/projects/TwoSampleTest/NPLMMetrics\""
   ]
  },
  {
   "cell_type": "code",
   "execution_count": 2,
   "metadata": {},
   "outputs": [
    {
     "name": "stdout",
     "output_type": "stream",
     "text": [
      "2024-11-20 15:50:47.352189: Importing os...\n",
      "2024-11-20 15:50:47.352379: Importing sys...\n",
      "Visible devices: [0]\n",
      "2024-11-20 15:50:47.352623: Importing timer from timeit...\n",
      "2024-11-20 15:50:47.352693: Setting env variables for tf import (only device(s) [0] will be available)...\n",
      "2024-11-20 15:50:47.352823: Importing numpy...\n",
      "2024-11-20 15:50:47.777442: Importing matplotlib...\n",
      "2024-11-20 15:50:48.408871: Importing h5py...\n",
      "2024-11-20 15:50:48.806158: Importing importlib.util...\n",
      "2024-11-20 15:50:48.806308: Importing json...\n",
      "2024-11-20 15:50:48.806379: Importing pandas...\n",
      "2024-11-20 15:50:50.845855: Importing random...\n",
      "2024-11-20 15:50:50.846037: Importing scipy utils...\n",
      "2024-11-20 15:50:52.547173: Importing subprocess...\n",
      "2024-11-20 15:50:52.547316: Importing tensorflow...\n",
      "Tensorflow version: 2.16.1\n",
      "2024-11-20 15:51:10.110860: Importing tensorflow_probability...\n",
      "Tensorflow probability version: 0.24.0\n",
      "2024-11-20 15:51:12.464824: Importing timeit...\n",
      "2024-11-20 15:51:12.464920: Importing tqdm...\n",
      "2024-11-20 15:51:12.478089: Importing typing...\n",
      "2024-11-20 15:51:12.478199: Setting tf configs...\n",
      "2024-11-20 15:51:13.940342: Importing GMetrics module...\n"
     ]
    },
    {
     "name": "stderr",
     "output_type": "stream",
     "text": [
      "/leonardo_scratch/fast/INF24_pmlhep_1/envs/tf2_custom_torch2.2/lib/python3.11/site-packages/jetnet/utils/utils.py:7: FutureWarning: In version 2024.7.0 (target date: 2024-06-30 11:59:59-05:00), this will be an error.\n",
      "To raise these warnings as errors (and get stack traces to find out where they're called), run\n",
      "    import warnings\n",
      "    warnings.filterwarnings(\"error\", module=\"coffea.*\")\n",
      "after the first `import coffea` or use `@pytest.mark.filterwarnings(\"error:::coffea.*\")` in pytest.\n",
      "Issue: coffea.nanoevents.methods.vector will be removed and replaced with scikit-hep vector. Nanoevents schemas internal to coffea will be migrated. Otherwise please consider using that package!.\n",
      "  from coffea.nanoevents.methods import vector\n"
     ]
    },
    {
     "name": "stdout",
     "output_type": "stream",
     "text": [
      "2024-11-20 15:51:26.516548: Importing jetnet.evaluation.gen_metrics module...\n",
      "Successfully loaded GPU #0, model: NVIDIA A100-SXM-64GB\n",
      "Loaded 1 GPUs: ['NVIDIA A100-SXM-64GB']\n",
      "Model directory exists\n",
      "2024-11-20 15:51:26.532330: All done.\n"
     ]
    }
   ],
   "source": [
    "visible_devices = [0]\n",
    "from datetime import datetime\n",
    "print(datetime.now().strftime(\"%Y-%m-%d %H:%M:%S.%f\")+\":\", \"Importing os...\")\n",
    "import os\n",
    "print(datetime.now().strftime(\"%Y-%m-%d %H:%M:%S.%f\")+\":\", \"Importing sys...\")\n",
    "import sys\n",
    "if not any(\"ipykernel\" in arg for arg in sys.argv):\n",
    "    print(datetime.now().strftime(\"%Y-%m-%d %H:%M:%S.%f\")+\":\", \"Importing and initializing argparse...\")\n",
    "    import argparse\n",
    "    parser = argparse.ArgumentParser()\n",
    "    parser.add_argument(\"-v\", \"--visible_devices\", help=\"Set visible devices\", nargs='*', type=list, default=visible_devices)\n",
    "    args = parser.parse_args()\n",
    "    visible_devices = args.visible_devices if args.visible_devices else visible_devices\n",
    "    if not isinstance(visible_devices, list):\n",
    "        raise ValueError(\"Visible devices must be a list of integers\")\n",
    "    for i in visible_devices:\n",
    "        if not isinstance(i, int):\n",
    "            raise ValueError(\"Visible devices must be a list of integers\")\n",
    "print(\"Visible devices:\", visible_devices)\n",
    "print(datetime.now().strftime(\"%Y-%m-%d %H:%M:%S.%f\")+\":\", \"Importing timer from timeit...\")\n",
    "from timeit import default_timer as timer\n",
    "print(datetime.now().strftime(\"%Y-%m-%d %H:%M:%S.%f\")+\":\", \"Setting env variables for tf import (only device(s)\", visible_devices, \"will be available)...\")\n",
    "os.environ[\"CUDA_VISIBLE_DEVICES\"] = ','.join([str(i) for i in visible_devices]) # type: ignore\n",
    "os.environ['TF_CPP_MIN_LOG_LEVEL'] = '2'\n",
    "#os.environ['TF_XLA_FLAGS'] = '--tf_xla_enable_xla_devices'\n",
    "#os.environ['TF_XLA_FLAGS'] = '--tf_xla_auto_jit=2'\n",
    "print(datetime.now().strftime(\"%Y-%m-%d %H:%M:%S.%f\")+\":\", \"Importing numpy...\")\n",
    "import numpy as np # type: ignore\n",
    "print(datetime.now().strftime(\"%Y-%m-%d %H:%M:%S.%f\")+\":\", \"Importing matplotlib...\")\n",
    "from matplotlib import pyplot as plt\n",
    "print(datetime.now().strftime(\"%Y-%m-%d %H:%M:%S.%f\")+\":\", \"Importing h5py...\")\n",
    "import h5py # type: ignore\n",
    "print(datetime.now().strftime(\"%Y-%m-%d %H:%M:%S.%f\")+\":\", \"Importing importlib.util...\")\n",
    "import importlib.util\n",
    "print(datetime.now().strftime(\"%Y-%m-%d %H:%M:%S.%f\")+\":\", \"Importing json...\")\n",
    "import json\n",
    "print(datetime.now().strftime(\"%Y-%m-%d %H:%M:%S.%f\")+\":\", \"Importing pandas...\")\n",
    "import pandas as pd\n",
    "print(datetime.now().strftime(\"%Y-%m-%d %H:%M:%S.%f\")+\":\", \"Importing random...\")\n",
    "import random\n",
    "print(datetime.now().strftime(\"%Y-%m-%d %H:%M:%S.%f\")+\":\", \"Importing scipy utils...\")\n",
    "from scipy.stats import norm, lognorm, chi2, kstwo, kstwobign, ks_2samp, moment\n",
    "from scipy.special import kolmogorov\n",
    "from scipy.optimize import minimize, curve_fit, root, bisect\n",
    "print(datetime.now().strftime(\"%Y-%m-%d %H:%M:%S.%f\")+\":\", \"Importing subprocess...\")\n",
    "import subprocess\n",
    "print(datetime.now().strftime(\"%Y-%m-%d %H:%M:%S.%f\")+\":\", \"Importing tensorflow...\")\n",
    "import tensorflow as tf # type: ignore\n",
    "print(\"Tensorflow version:\", tf.__version__)\n",
    "print(datetime.now().strftime(\"%Y-%m-%d %H:%M:%S.%f\")+\":\", \"Importing tensorflow_probability...\")\n",
    "import tensorflow_probability as tfp # type: ignore\n",
    "tfd = tfp.distributions\n",
    "print(\"Tensorflow probability version:\", tfp.__version__)\n",
    "print(datetime.now().strftime(\"%Y-%m-%d %H:%M:%S.%f\")+\":\", \"Importing timeit...\")\n",
    "from timeit import default_timer as timer\n",
    "print(datetime.now().strftime(\"%Y-%m-%d %H:%M:%S.%f\")+\":\", \"Importing tqdm...\")\n",
    "from tqdm import tqdm\n",
    "print(datetime.now().strftime(\"%Y-%m-%d %H:%M:%S.%f\")+\":\", \"Importing typing...\")\n",
    "from typing import List, Tuple, Dict, Callable, Union, Optional, Any, Type\n",
    "print(datetime.now().strftime(\"%Y-%m-%d %H:%M:%S.%f\")+\":\", \"Setting tf configs...\")\n",
    "gpu_devices = tf.config.experimental.list_physical_devices('GPU')\n",
    "for gpu_device in gpu_devices:\n",
    "    tf.config.experimental.set_memory_growth(gpu_device, True)\n",
    "\n",
    "print(datetime.now().strftime(\"%Y-%m-%d %H:%M:%S.%f\")+\":\", \"Importing GMetrics module...\")\n",
    "\n",
    "import GMetrics # type: ignore\n",
    "from GMetrics.plotters import plot_corners, cornerplotter, plot_corr_matrix, plot_corr_matrix_side_by_side # type: ignore\n",
    "from GMetrics.more import MixtureDistributions # type: ignore\n",
    "from GMetrics.more import deformations # type: ignore\n",
    "from GMetrics.more.optimizers_deformations import compute_exclusion_bisection, compute_exclusion_bisection_np ,compute_exclusion_LR_bisection # type: ignore\n",
    "from GMetrics.utils import se_mean, se_std\n",
    "\n",
    "print(datetime.now().strftime(\"%Y-%m-%d %H:%M:%S.%f\")+\":\", \"Importing jetnet.evaluation.gen_metrics module...\")\n",
    "from jetnet.evaluation import gen_metrics as JMetrics # type: ignore\n",
    "\n",
    "def get_gpu_info():\n",
    "    try:\n",
    "        gpu_info = subprocess.check_output([\"nvidia-smi\", \"--query-gpu=gpu_name\", \"--format=csv,noheader\"]).decode('utf-8')\n",
    "        return gpu_info.strip().split('\\n')\n",
    "    except Exception as e:\n",
    "        print(e)\n",
    "        return None\n",
    "training_devices = []\n",
    "gpu_models = get_gpu_info()\n",
    "for i in visible_devices:\n",
    "    if gpu_models:\n",
    "        training_devices.append(gpu_models[i])\n",
    "        print(f\"Successfully loaded GPU #{i}, model: {gpu_models[i]}\")\n",
    "    else:\n",
    "        training_devices.append('undetermined')\n",
    "        print(f\"Failed to load GPU {i} model. Defaulting to 'undetermined'.\")\n",
    "print(f\"Loaded {len(training_devices)} GPUs: {training_devices}\")\n",
    "    \n",
    "results_dir = \"results/5D_mixture/\"\n",
    "if os.path.exists(results_dir):\n",
    "    print(\"Model directory exists\")\n",
    "else:\n",
    "    os.makedirs(results_dir)\n",
    "    print(\"Model directory was created\")\n",
    "    \n",
    "    \n",
    "print(datetime.now().strftime(\"%Y-%m-%d %H:%M:%S.%f\")+\":\", \"All done.\")"
   ]
  },
  {
   "cell_type": "code",
   "execution_count": 3,
   "metadata": {},
   "outputs": [],
   "source": [
    "import torch\n",
    "import time\n",
    "\n",
    "from falkon import LogisticFalkon\n",
    "from falkon.kernels import GaussianKernel\n",
    "from falkon.options import FalkonOptions\n",
    "from falkon.gsc_losses import WeightedCrossEntropyLoss\n",
    "\n",
    "from scipy.spatial.distance import pdist\n"
   ]
  },
  {
   "cell_type": "markdown",
   "metadata": {},
   "source": [
    "# Model definition"
   ]
  },
  {
   "cell_type": "code",
   "execution_count": 4,
   "metadata": {},
   "outputs": [
    {
     "name": "stdout",
     "output_type": "stream",
     "text": [
      "<dtype: 'float64'> <dtype: 'float64'>\n",
      "Types of distributions:  <class 'tensorflow_probability.python.distributions.mixture_same_family.MixtureSameFamily'> <class 'tensorflow_probability.python.distributions.mixture_same_family.MixtureSameFamily'>\n",
      "Dtypes of distributions:  <dtype: 'float64'> <dtype: 'float64'>\n",
      "Batch shapes of distributions:  () ()\n",
      "Event shapes of distributions:  (5,) (5,)\n",
      "sample from dist_1:  tf.Tensor(\n",
      "[[-1.21344303  3.79128235 -0.36013196 -4.40885725 -0.9766748 ]\n",
      " [ 1.79642973  0.74689922 -1.4338443  -1.6379499   2.47373712]], shape=(2, 5), dtype=float64)\n",
      "sample from dist_2:  tf.Tensor(\n",
      "[[-1.21344303  3.79128235 -0.36013196 -4.40885725 -0.9766748 ]\n",
      " [ 1.79642973  0.74689922 -1.4338443  -1.6379499   2.47373712]], shape=(2, 5), dtype=float64)\n"
     ]
    }
   ],
   "source": [
    "seed = 0\n",
    "ncomp = 3\n",
    "ndims = 5\n",
    "niter = 10_000\n",
    "dist_1 = MixtureDistributions.MixMultiNormal(ncomp = ncomp,\n",
    "                                             ndims = ndims,\n",
    "                                             loc_factor = 5.,\n",
    "                                             scale_factor = 1.,\n",
    "                                             dtype = tf.float64,\n",
    "                                             seed = seed)\n",
    "dist_2 = MixtureDistributions.MixMultiNormal(ncomp = ncomp,\n",
    "                                             ndims = ndims,\n",
    "                                             loc_factor = 5.,\n",
    "                                             scale_factor = 1.,\n",
    "                                             dtype = tf.float64,\n",
    "                                             seed = seed)\n",
    "print(dist_1.dtype, dist_2.dtype)\n",
    "print('Types of distributions: ', type(dist_1), type(dist_2))\n",
    "print('Dtypes of distributions: ', dist_1.dtype, dist_2.dtype)\n",
    "print('Batch shapes of distributions: ', dist_1.batch_shape, dist_2.batch_shape)\n",
    "print('Event shapes of distributions: ', dist_1.event_shape, dist_2.event_shape)\n",
    "GMetrics.utils.reset_random_seeds(seed)\n",
    "print('sample from dist_1: ', dist_1.sample(2))\n",
    "GMetrics.utils.reset_random_seeds(seed)\n",
    "print('sample from dist_2: ', dist_2.sample(2))"
   ]
  },
  {
   "cell_type": "markdown",
   "metadata": {},
   "source": [
    "# Fixed $n=m=50000$"
   ]
  },
  {
   "cell_type": "markdown",
   "metadata": {},
   "source": [
    "## Null hypothesis"
   ]
  },
  {
   "cell_type": "markdown",
   "metadata": {},
   "source": [
    "### Model definition"
   ]
  },
  {
   "cell_type": "code",
   "execution_count": 5,
   "metadata": {},
   "outputs": [],
   "source": [
    "batch_size_test = 50000"
   ]
  },
  {
   "cell_type": "code",
   "execution_count": 6,
   "metadata": {},
   "outputs": [
    {
     "name": "stdout",
     "output_type": "stream",
     "text": [
      "Model directory exists\n",
      "Null hypothesis directory exists\n"
     ]
    }
   ],
   "source": [
    "model_dir = results_dir + str(ndims) + \"D_\" + str(int(batch_size_test/1000)) + \"K/\"\n",
    "if os.path.exists(model_dir):\n",
    "    print(\"Model directory exists\")\n",
    "else:\n",
    "    os.makedirs(model_dir)\n",
    "    print(\"Model directory was created\")\n",
    "null_hypotheses_dir = model_dir + \"null_hypothesis/\"\n",
    "if os.path.exists(null_hypotheses_dir):\n",
    "    print(\"Null hypothesis directory exists\")\n",
    "else:\n",
    "    os.makedirs(null_hypotheses_dir)\n",
    "    print(\"Null hypothesis directory was created\")\n",
    "metrics_config_file = model_dir + \"metrics_config.json\""
   ]
  },
  {
   "cell_type": "code",
   "execution_count": 7,
   "metadata": {},
   "outputs": [
    {
     "name": "stdout",
     "output_type": "stream",
     "text": [
      "Using numpy mode with TensorFlow inputs.\n",
      "Parsing input distribution...\n",
      "Input distribution is a tfp.distributions.Distribution object.\n"
     ]
    },
    {
     "name": "stdout",
     "output_type": "stream",
     "text": [
      "Using numpy mode with TensorFlow inputs.\n",
      "Parsing input distribution...\n",
      "Input distribution is a tfp.distributions.Distribution object.\n",
      "nsamples 500000000\n",
      "batch_size 50000\n",
      "niter 10000\n",
      "niter * batch_size 500000000\n",
      "small_sample False\n"
     ]
    }
   ],
   "source": [
    "TwoSampleTestInputs = GMetrics.TwoSampleTestInputs(dist_1_input = dist_1,\n",
    "                                                   dist_2_input = dist_2,\n",
    "                                                   niter = niter,\n",
    "                                                   batch_size_test = batch_size_test,\n",
    "                                                   batch_size_gen = 10000,\n",
    "                                                   small_sample_threshold = 1e7,\n",
    "                                                   dtype_input = tf.float64,\n",
    "                                                   seed_input = 0,\n",
    "                                                   use_tf = False,\n",
    "                                                   mirror_strategy = False,\n",
    "                                                   verbose = True)\n",
    "print(\"nsamples\",TwoSampleTestInputs.nsamples)\n",
    "print(\"batch_size\",TwoSampleTestInputs.batch_size_test)\n",
    "print(\"niter\",TwoSampleTestInputs.niter)\n",
    "print(\"niter * batch_size\",TwoSampleTestInputs.niter*TwoSampleTestInputs.batch_size_test)\n",
    "print(\"small_sample\",TwoSampleTestInputs.small_sample)"
   ]
  },
  {
   "cell_type": "code",
   "execution_count": 8,
   "metadata": {},
   "outputs": [],
   "source": [
    "NPLMMetric = GMetrics.NPLMMetric(TwoSampleTestInputs,\n",
    "                                 progress_bar = True,\n",
    "                                 verbose = True,\n",
    "                                 M = 3000, \n",
    "                                 lam = 1e-6, \n",
    "                                 iter_list = 1000000,\n",
    "                                 weight = 1) "
   ]
  },
  {
   "cell_type": "markdown",
   "metadata": {},
   "source": [
    "### Set up tests and metrics configurations"
   ]
  },
  {
   "cell_type": "code",
   "execution_count": 9,
   "metadata": {},
   "outputs": [
    {
     "data": {
      "text/html": [
       "<div>\n",
       "<style scoped>\n",
       "    .dataframe tbody tr th:only-of-type {\n",
       "        vertical-align: middle;\n",
       "    }\n",
       "\n",
       "    .dataframe tbody tr th {\n",
       "        vertical-align: top;\n",
       "    }\n",
       "\n",
       "    .dataframe thead th {\n",
       "        text-align: right;\n",
       "    }\n",
       "</style>\n",
       "<table border=\"1\" class=\"dataframe\">\n",
       "  <thead>\n",
       "    <tr style=\"text-align: right;\">\n",
       "      <th></th>\n",
       "      <th>niter</th>\n",
       "      <th>batch_size_test</th>\n",
       "      <th>batch_size_gen</th>\n",
       "      <th>small_sample_threshold</th>\n",
       "      <th>dtype_input</th>\n",
       "      <th>seed</th>\n",
       "      <th>use_tf</th>\n",
       "      <th>mirror_strategy</th>\n",
       "      <th>strategy</th>\n",
       "      <th>verbose</th>\n",
       "      <th>...</th>\n",
       "      <th>ndims_1</th>\n",
       "      <th>nsamples_1</th>\n",
       "      <th>is_symb_2</th>\n",
       "      <th>ndims_2</th>\n",
       "      <th>nsamples_2</th>\n",
       "      <th>dtype</th>\n",
       "      <th>ndims</th>\n",
       "      <th>nsamples</th>\n",
       "      <th>small_sample</th>\n",
       "      <th>ncomp</th>\n",
       "    </tr>\n",
       "  </thead>\n",
       "  <tbody>\n",
       "    <tr>\n",
       "      <th>0</th>\n",
       "      <td>10000</td>\n",
       "      <td>50000</td>\n",
       "      <td>10000</td>\n",
       "      <td>10000000</td>\n",
       "      <td>float64</td>\n",
       "      <td>0</td>\n",
       "      <td>False</td>\n",
       "      <td>False</td>\n",
       "      <td>None</td>\n",
       "      <td>True</td>\n",
       "      <td>...</td>\n",
       "      <td>5</td>\n",
       "      <td>0</td>\n",
       "      <td>True</td>\n",
       "      <td>5</td>\n",
       "      <td>0</td>\n",
       "      <td>float64</td>\n",
       "      <td>5</td>\n",
       "      <td>500000000</td>\n",
       "      <td>False</td>\n",
       "      <td>3</td>\n",
       "    </tr>\n",
       "  </tbody>\n",
       "</table>\n",
       "<p>1 rows × 21 columns</p>\n",
       "</div>"
      ],
      "text/plain": [
       "   niter  batch_size_test  batch_size_gen  small_sample_threshold dtype_input  \\\n",
       "0  10000            50000           10000                10000000     float64   \n",
       "\n",
       "   seed  use_tf  mirror_strategy strategy  verbose  ...  ndims_1  nsamples_1  \\\n",
       "0     0   False            False     None     True  ...        5           0   \n",
       "\n",
       "   is_symb_2  ndims_2  nsamples_2    dtype ndims   nsamples  small_sample  \\\n",
       "0       True        5           0  float64     5  500000000         False   \n",
       "\n",
       "   ncomp  \n",
       "0      3  \n",
       "\n",
       "[1 rows x 21 columns]"
      ]
     },
     "execution_count": 9,
     "metadata": {},
     "output_type": "execute_result"
    }
   ],
   "source": [
    "test_config_null = {}\n",
    "test_config_tmp = dict(TwoSampleTestInputs.__dict__)\n",
    "keys_to_remove = [\"_dist_1_input\", \"_dist_2_input\", \"_dist_1_num\", \"_dist_2_num\", \"_dist_1_symb\", \"_dist_2_symb\", \"_seed_generator\"]\n",
    "for key in keys_to_remove:\n",
    "    test_config_tmp.pop(key, None)\n",
    "for key, value in test_config_tmp.items():\n",
    "    new_key = key.lstrip('_')\n",
    "    \n",
    "    if isinstance(value, tf.Tensor):\n",
    "        new_value = value.numpy() # type: ignore\n",
    "    elif isinstance(value, np.ndarray):\n",
    "        new_value = value.tolist()\n",
    "    elif isinstance(value, np.generic):\n",
    "        new_value = value.item() # Convert NumPy scalars to Python scalars\n",
    "    elif isinstance(value, tf.DType):\n",
    "        new_value = value.name\n",
    "    elif isinstance(value, np.dtype):\n",
    "        new_value = np.dtype(value).name\n",
    "    else:\n",
    "        new_value = value\n",
    "    \n",
    "    test_config_null[new_key] = new_value\n",
    "\n",
    "test_config_null[\"ncomp\"] = ncomp\n",
    "\n",
    "pd.DataFrame([test_config_null])"
   ]
  },
  {
   "cell_type": "code",
   "execution_count": 10,
   "metadata": {},
   "outputs": [
    {
     "name": "stdout",
     "output_type": "stream",
     "text": [
      "{'NPLM': {'name': 'nplm', 'object_name': 'NPLMMetric', 'class_name': 'GMetrics.NPLMMetric', 'kwargs': {'M': 3000, 'lam': 1e-06, 'iter_list': 1000000, 'weight': 1}, 'result_key': 'metric_list', 'scale_func': <function <lambda> at 0x7f0952fde660>, 'scale_func_string': 'lambda ns, ndims: 1', 'test_config': {'niter': 10000, 'batch_size_test': 50000, 'batch_size_gen': 10000, 'small_sample_threshold': 10000000, 'dtype_input': 'float64', 'seed': 0, 'use_tf': False, 'mirror_strategy': False, 'strategy': None, 'verbose': True, 'is_symb_1': True, 'ndims_1': 5, 'nsamples_1': 0, 'is_symb_2': True, 'ndims_2': 5, 'nsamples_2': 0, 'dtype': 'float64', 'ndims': 5, 'nsamples': 500000000, 'small_sample': False, 'ncomp': 3}, 'max_vectorize': 1000, 'latex': '$t_{\\\\mathrm{NPLM}}$', 'null_file': 'results/5D_mixture/5D_50K/null_hypothesis/NPLM.json'}}\n",
      "{'name': 'nplm', 'object_name': 'NPLMMetric', 'class_name': 'GMetrics.NPLMMetric', 'kwargs': {'M': 3000, 'lam': 1e-06, 'iter_list': 1000000, 'weight': 1}, 'result_key': 'metric_list', 'scale_func': <function <lambda> at 0x7f0952fde660>, 'scale_func_string': 'lambda ns, ndims: 1', 'test_config': {'niter': 10000, 'batch_size_test': 50000, 'batch_size_gen': 10000, 'small_sample_threshold': 10000000, 'dtype_input': 'float64', 'seed': 0, 'use_tf': False, 'mirror_strategy': False, 'strategy': None, 'verbose': True, 'is_symb_1': True, 'ndims_1': 5, 'nsamples_1': 0, 'is_symb_2': True, 'ndims_2': 5, 'nsamples_2': 0, 'dtype': 'float64', 'ndims': 5, 'nsamples': 500000000, 'small_sample': False, 'ncomp': 3}, 'max_vectorize': 1000, 'latex': '$t_{\\\\mathrm{NPLM}}$', 'null_file': 'results/5D_mixture/5D_50K/null_hypothesis/NPLM.json'}\n"
     ]
    }
   ],
   "source": [
    "unique_key = \"config_ndims_\"+str(TwoSampleTestInputs.ndims)+\"_ncomp_\"+str(ncomp)+\"_nsamples_\"+str(TwoSampleTestInputs.batch_size_test)+\"_niter_\"+str(TwoSampleTestInputs.niter)\n",
    "metrics_config = {unique_key: {\"NPLM\": {\"name\": \"nplm\",\n",
    "                                       \"object_name\": \"NPLMMetric\",\n",
    "                                       \"class_name\": \"GMetrics.NPLMMetric\",\n",
    "                                       \"kwargs\": {\"M\": 3000,\n",
    "                                                  \"lam\": 1e-6,\n",
    "                                                  \"iter_list\": 1000000,\n",
    "                                                  \"weight\" : 1},\n",
    "                                       \"result_key\": \"metric_list\", \n",
    "                                       \"scale_func\": lambda ns, ndims: 1,#(ns/ndims)**(3/2),\n",
    "                                       \"scale_func_string\": \"lambda ns, ndims: 1\",\n",
    "                                       \"test_config\": test_config_null,\n",
    "                                       \"max_vectorize\": 1000, # optimized for 5D\n",
    "                                       \"latex\": \"$t_{\\mathrm{NPLM}}$\",\n",
    "                                       \"null_file\": null_hypotheses_dir+\"NPLM.json\"}}}\n",
    "\n",
    "print(metrics_config[unique_key])\n",
    "nplm_config = metrics_config[unique_key][\"NPLM\"]\n",
    "print(nplm_config)"
   ]
  },
  {
   "cell_type": "markdown",
   "metadata": {},
   "source": [
    "### Evaluate null hypotheses"
   ]
  },
  {
   "cell_type": "code",
   "execution_count": 11,
   "metadata": {},
   "outputs": [
    {
     "name": "stdout",
     "output_type": "stream",
     "text": [
      "Loading nplm from results/5D_mixture/5D_50K/null_hypothesis/NPLM.json\n"
     ]
    }
   ],
   "source": [
    "file = nplm_config[\"null_file\"]\n",
    "name = nplm_config[\"name\"]\n",
    "max_vectorize = nplm_config[\"max_vectorize\"]\n",
    "obj = eval(nplm_config[\"object_name\"])\n",
    "if os.path.exists(file):\n",
    "     print(f\"Loading {name} from {file}\")\n",
    "     obj.Results.load_from_json(file)\n",
    "else:\n",
    "    print(f\"Computing and saving {name}\")\n",
    "    obj.Test_np()\n",
    "    print(f\"Saving {name} to {file}\")\n",
    "    obj.Results.save_to_json(file)"
   ]
  },
  {
   "cell_type": "code",
   "execution_count": 12,
   "metadata": {},
   "outputs": [
    {
     "name": "stdout",
     "output_type": "stream",
     "text": [
      "ThresholdS for metric nplm: [[0.68, [6800, 3199], 61.516348916761636], [0.95, [9500, 500], 81.01523729138644], [0.99, [9900, 100], 93.43359321894778]]\n",
      "Computing time for metric nplm: 23042.540163464997\n",
      "If you want to look into it the file to check is: results/5D_mixture/5D_50K/metrics_config.json\n"
     ]
    },
    {
     "data": {
      "text/html": [
       "<div>\n",
       "<style scoped>\n",
       "    .dataframe tbody tr th:only-of-type {\n",
       "        vertical-align: middle;\n",
       "    }\n",
       "\n",
       "    .dataframe tbody tr th {\n",
       "        vertical-align: top;\n",
       "    }\n",
       "\n",
       "    .dataframe thead th {\n",
       "        text-align: right;\n",
       "    }\n",
       "</style>\n",
       "<table border=\"1\" class=\"dataframe\">\n",
       "  <thead>\n",
       "    <tr style=\"text-align: right;\">\n",
       "      <th></th>\n",
       "      <th>name</th>\n",
       "      <th>object_name</th>\n",
       "      <th>class_name</th>\n",
       "      <th>kwargs</th>\n",
       "      <th>result_key</th>\n",
       "      <th>scale_func</th>\n",
       "      <th>scale_func_string</th>\n",
       "      <th>test_config</th>\n",
       "      <th>max_vectorize</th>\n",
       "      <th>latex</th>\n",
       "      <th>null_file</th>\n",
       "      <th>thresholds</th>\n",
       "    </tr>\n",
       "  </thead>\n",
       "  <tbody>\n",
       "    <tr>\n",
       "      <th>0</th>\n",
       "      <td>nplm</td>\n",
       "      <td>NPLMMetric</td>\n",
       "      <td>GMetrics.NPLMMetric</td>\n",
       "      <td>{'M': 3000, 'lam': 1e-06, 'iter_list': 1000000...</td>\n",
       "      <td>metric_list</td>\n",
       "      <td>&lt;function &lt;lambda&gt; at 0x7f0952fde660&gt;</td>\n",
       "      <td>lambda ns, ndims: 1</td>\n",
       "      <td>{'niter': 10000, 'batch_size_test': 50000, 'ba...</td>\n",
       "      <td>1000</td>\n",
       "      <td>$t_{\\mathrm{NPLM}}$</td>\n",
       "      <td>results/5D_mixture/5D_50K/null_hypothesis/NPLM...</td>\n",
       "      <td>[[0.68, [6800, 3199], 61.516348916761636], [0....</td>\n",
       "    </tr>\n",
       "  </tbody>\n",
       "</table>\n",
       "</div>"
      ],
      "text/plain": [
       "   name object_name           class_name  \\\n",
       "0  nplm  NPLMMetric  GMetrics.NPLMMetric   \n",
       "\n",
       "                                              kwargs   result_key  \\\n",
       "0  {'M': 3000, 'lam': 1e-06, 'iter_list': 1000000...  metric_list   \n",
       "\n",
       "                              scale_func    scale_func_string  \\\n",
       "0  <function <lambda> at 0x7f0952fde660>  lambda ns, ndims: 1   \n",
       "\n",
       "                                         test_config  max_vectorize  \\\n",
       "0  {'niter': 10000, 'batch_size_test': 50000, 'ba...           1000   \n",
       "\n",
       "                 latex                                          null_file  \\\n",
       "0  $t_{\\mathrm{NPLM}}$  results/5D_mixture/5D_50K/null_hypothesis/NPLM...   \n",
       "\n",
       "                                          thresholds  \n",
       "0  [[0.68, [6800, 3199], 61.516348916761636], [0....  "
      ]
     },
     "execution_count": 12,
     "metadata": {},
     "output_type": "execute_result"
    }
   ],
   "source": [
    "cl_list = [0.68, 0.95, 0.99]\n",
    "null_times = []\n",
    "\n",
    "\n",
    "name = nplm_config[\"name\"]\n",
    "obj = eval(nplm_config[\"object_name\"])\n",
    "result_key = nplm_config[\"result_key\"]\n",
    "scale_func = nplm_config[\"scale_func\"]\n",
    "\n",
    "nsamples = obj.Inputs.batch_size_test\n",
    "ns = nsamples**2 /(2*nsamples)\n",
    "dist_null = np.array(obj.Results[-1].result_value[result_key])*scale_func(ns, ndims)\n",
    "\n",
    "metric_thresholds = [[cl, \n",
    "                        [int(cl*len(dist_null)), \n",
    "                        int((1-cl)*len(dist_null))], \n",
    "                        np.sort(dist_null)[int(len(dist_null)*cl)]] for cl in cl_list]\n",
    "print(f\"ThresholdS for metric {nplm_config['name']}: {metric_thresholds}\")\n",
    "null_time = obj.Results[-1].__dict__['computing_time']\n",
    "null_times.append([name, int(null_time)])\n",
    "print(f\"Computing time for metric {nplm_config['name']}: {null_time}\")\n",
    "\n",
    "nplm_config.update({\"thresholds\": metric_thresholds})\n",
    "  \n",
    "print(f\"If you want to look into it the file to check is: {metrics_config_file}\")\n",
    "\n",
    "GMetrics.utils.save_update_metrics_config(metrics_config = metrics_config, metrics_config_file = metrics_config_file) # type: ignore"
   ]
  },
  {
   "cell_type": "markdown",
   "metadata": {},
   "source": [
    "### Plots of null-distributions"
   ]
  },
  {
   "cell_type": "code",
   "execution_count": 13,
   "metadata": {},
   "outputs": [
    {
     "name": "stdout",
     "output_type": "stream",
     "text": [
      "mu = 56.294919444524275 +/- 1.901946440413034\n",
      "sigma = 13.791107426211406 +/- 0.11135807616827727\n",
      "68%CL = 61.516348916761636, 95%CL = 81.01523729138644, 99%CL = 93.43359321894778\n",
      "mu = 56.294919444524275 +/- 1.901946440413034\n",
      "sigma = 13.791107426211406 +/- 0.11135807616827727\n"
     ]
    },
    {
     "name": "stderr",
     "output_type": "stream",
     "text": [
      "/tmp/ipykernel_1224628/3764764153.py:65: UserWarning: Attempt to set non-positive ylim on a log-scaled axis will be ignored.\n",
      "  ax[0].set_ylim(current_ylim0)\n",
      "/tmp/ipykernel_1224628/3764764153.py:67: MatplotlibDeprecationWarning: The legendHandles attribute was deprecated in Matplotlib 3.7 and will be removed two minor releases later. Use legend_handles instead.\n",
      "  for handle in legend0.legendHandles[-3:]:\n",
      "/tmp/ipykernel_1224628/3764764153.py:95: UserWarning: Attempt to set non-positive ylim on a log-scaled axis will be ignored.\n",
      "  ax[1].set_ylim(current_ylim1)\n",
      "/tmp/ipykernel_1224628/3764764153.py:101: MatplotlibDeprecationWarning: The legendHandles attribute was deprecated in Matplotlib 3.7 and will be removed two minor releases later. Use legend_handles instead.\n",
      "  for handle in legend1.legendHandles[-3:]:\n"
     ]
    },
    {
     "data": {
      "image/png": "[encoded data removed]",
      "text/plain": [
       "<Figure size 1600x600 with 2 Axes>"
      ]
     },
     "metadata": {},
     "output_type": "display_data"
    },
    {
     "name": "stdout",
     "output_type": "stream",
     "text": [
      "Time elapsed: 1.6210923690814525 seconds.\n"
     ]
    }
   ],
   "source": [
    "\n",
    "name = nplm_config[\"name\"]\n",
    "name_cap = name.upper()\n",
    "latex = nplm_config[\"latex\"]\n",
    "obj = eval(nplm_config[\"object_name\"])\n",
    "result_key = nplm_config[\"result_key\"]\n",
    "scale_func = nplm_config[\"scale_func\"]\n",
    "figure_file = nplm_config[\"null_file\"].replace(\"json\",\"pdf\")\n",
    "thresholds = nplm_config[\"thresholds\"]\n",
    "\n",
    "start = timer()\n",
    "\n",
    "nsamples = obj.Inputs.batch_size_test\n",
    "niter = obj.Inputs.niter\n",
    "ns = nsamples**2 /(2*nsamples)\n",
    "dist_null = np.array(obj.Results[-1].result_value[result_key])*scale_func(ns, ndims)\n",
    "\n",
    "scale = 'log'\n",
    "num_bins = 50  # number of bins|\n",
    "\n",
    "mu, deltamu, sigma, deltasigma = (np.mean(dist_null), se_mean(dist_null), np.std(dist_null), se_std(dist_null))\n",
    "sigma_68, sigma_95, sigma_99 = [np.sort(dist_null)[int(len(dist_null)*cl)] for cl in [0.68, 0.95, 0.99]]\n",
    "print(f\"mu = {mu} +/- {deltamu}\")\n",
    "print(f\"sigma = {sigma} +/- {deltasigma}\")\n",
    "print(f\"68%CL = {sigma_68}, 95%CL = {sigma_95}, 99%CL = {sigma_99}\")\n",
    "\n",
    "print(\"mu =\", mu, \"+/-\", deltamu)\n",
    "print(\"sigma =\", sigma, \"+/-\", deltasigma)\n",
    "\n",
    "min_x, max_x = min(dist_null), max(dist_null) # lower and upper limit of the binning\n",
    "x = np.linspace(min_x, max_x, num_bins + 1)\n",
    "counts, bin_edges = np.histogram(dist_null, bins=x, density=True)\n",
    "cum_counts = np.cumsum(counts)/np.sum(counts)\n",
    "bin_centers = (bin_edges[:-1] + bin_edges[1:]) / 2\n",
    "\n",
    "fig, ax = plt.subplots(1, 2, figsize=(16, 6))\n",
    "\n",
    "dash_styles = ['-', '--', '-.']\n",
    "colors = [\"royalblue\", \"darkorange\", \"mediumseagreen\"]\n",
    "\n",
    "# Create step plot\n",
    "step_edges = np.convolve(bin_centers, [0.5, 0.5], 'valid')\n",
    "step_counts = counts[:-1]  # assuming counts is one element longer than step_edges\n",
    "\n",
    "ax[0].step(step_edges, step_counts, where='mid', linestyle='-', color = \"tomato\", label = \"Null distribution\")\n",
    "current_ylim0 = ax[0].get_ylim()\n",
    "\n",
    "ax[0].set_yscale(scale)\n",
    "ax[0].set_xlabel(r\"%s\"%latex, fontsize=16)\n",
    "ax[0].set_ylabel('Number of pseudo-experiments', fontsize=16)\n",
    "ax[0].set_title('PDF for MoG null with $q = '+str(ncomp)+'$, $d = '+str(ndims)+'$, $n=m='+str(int(nsamples/1000))+'$K, $n_{\\mathrm{iter}} = '+str(int(niter/1000))+'$K', fontsize=15)\n",
    "ax[0].tick_params(axis='x', labelsize=15)  # Set x-axis tick label size\n",
    "ax[0].tick_params(axis='y', labelsize=15)  # Set y-axis tick label size\n",
    "\n",
    "for i, threshold in enumerate(thresholds):\n",
    "    confidence_level, _, threshold_value = threshold\n",
    "\n",
    "    start_index = np.searchsorted(step_edges, threshold_value, side=\"right\") - 1\n",
    "    start_index = max(start_index, 0)\n",
    "    fill_x_range = np.concatenate([[threshold_value], step_edges[start_index+1:]])\n",
    "    fill_y_values = step_counts[start_index:]\n",
    "    if len(fill_x_range) > 1 and len(fill_y_values) > 0:\n",
    "        ax[0].fill_between(fill_x_range, 0, fill_y_values, color=colors[i], alpha=0.1, step='mid', label=f\"{int(confidence_level * 100)}% CL ($x>{format(threshold_value, '.2f')}   $)\")\n",
    "    ax[0].axvline(x=threshold_value, linestyle=dash_styles[i], color=colors[i], linewidth=1)\n",
    "\n",
    "ax[0].set_ylim(current_ylim0)  \n",
    "legend0 = ax[0].legend(loc='upper right', fontsize=15)\n",
    "for handle in legend0.legendHandles[-3:]:\n",
    "    handle.set_alpha(0.5)  # Set to desired alpha value\n",
    "\n",
    "# Create step plot\n",
    "step_edges = np.convolve(bin_centers, [0.5, 0.5], 'valid')\n",
    "step_counts = cum_counts[:-1]  # assuming counts is one element longer than step_edges\n",
    "\n",
    "ax[1].step(step_edges, step_counts, where='mid', linestyle='-', color = \"tomato\", label = \"Null distribution\")\n",
    "#ax[1].plot(bin_centers, cum_counts, linestyle = '-', color = \"tomato\", label = \"Null distribution\", drawstyle='steps-mid')\n",
    "current_ylim1 = ax[1].get_ylim()\n",
    "\n",
    "ax[1].set_yscale(scale)\n",
    "ax[1].set_xlabel(r\"%s\"%latex, fontsize=16)\n",
    "ax[1].set_title('CDF for MoG null with $q = '+str(ncomp)+'$, $d = '+str(ndims)+'$, $n=m='+str(int(nsamples/1000))+'$K, $n_{\\mathrm{iter}} = '+str(int(niter/1000))+'$K', fontsize=15)\n",
    "ax[1].tick_params(axis='x', labelsize=15)  # Set x-axis tick label size\n",
    "ax[1].tick_params(axis='y', labelsize=15)  # Set y-axis tick label size\n",
    "\n",
    "for i, threshold in enumerate(thresholds):\n",
    "    confidence_level, _, threshold_value = threshold\n",
    "\n",
    "    start_index = np.searchsorted(step_edges, threshold_value, side=\"right\") - 1\n",
    "    start_index = max(start_index, 0)\n",
    "    fill_x_range = np.concatenate([[threshold_value], step_edges[start_index+1:]])\n",
    "    fill_y_values = step_counts[start_index:]\n",
    "    if len(fill_x_range) > 1 and len(fill_y_values) > 0:\n",
    "        ax[1].fill_between(fill_x_range, 0, fill_y_values, color=colors[i], alpha=0.1, step='mid', label=f\"{int(confidence_level * 100)}% CL ($x>{format(threshold_value, '.2f')}   $)\")\n",
    "    ax[1].axvline(x=threshold_value, linestyle=dash_styles[i], color=colors[i], linewidth=1)\n",
    "\n",
    "ax[1].set_ylim(current_ylim1)  \n",
    "#for i, threshold in enumerate(thresholds):\n",
    "#    confidence, _, value = threshold\n",
    "#    ax[1].axvline(x=value, color=colors[i], linestyle=dash_styles[i], alpha=1, label=f\"{int(confidence_level * 100)} CL% ($x>{format(threshold_value,'.2f')}$)\")\n",
    "\n",
    "legend1 = ax[1].legend(loc='upper right', fontsize=15)\n",
    "for handle in legend1.legendHandles[-3:]:\n",
    "    handle.set_alpha(0.5)  # Set to desired alpha value\n",
    "\n",
    "plt.subplots_adjust(wspace=0.1)  # Adjust this value to your liking\n",
    "plt.tight_layout()\n",
    "plt.savefig(figure_file)\n",
    "plt.show()\n",
    "plt.close()\n",
    "\n",
    "nplm_config.update({\"null_figure\": figure_file})\n",
    "\n",
    "end = timer()\n",
    "print(\"Time elapsed:\", end-start, \"seconds.\")\n",
    "\n",
    "#GMetrics.utils.save_update_metrics_config(metrics_config = metrics_config, metrics_config_file = metrics_config_file) # type: ignore"
   ]
  },
  {
   "cell_type": "markdown",
   "metadata": {},
   "source": [
    "## Alternative hypotheses and results"
   ]
  },
  {
   "cell_type": "markdown",
   "metadata": {},
   "source": [
    "### Scan and exclusion limits (bisection method)"
   ]
  },
  {
   "cell_type": "code",
   "execution_count": 14,
   "metadata": {},
   "outputs": [],
   "source": [
    "if test_config_null[\"use_tf\"]:\n",
    "    dtype = getattr(tf, test_config_null[\"dtype_input\"])\n",
    "else:\n",
    "    dtype = np.dtype(test_config_null[\"dtype_input\"])\n",
    "    \n",
    "test_kwargs = {\"niter_null\": niter,\n",
    "               \"niter_alt\": 100,\n",
    "               \"batch_size_test\": test_config_null[\"batch_size_test\"],\n",
    "               \"batch_size_gen\": test_config_null[\"batch_size_gen\"],\n",
    "               \"small_sample_threshold\": test_config_null[\"small_sample_threshold\"],\n",
    "               \"dtype_input\": dtype,\n",
    "               \"seed_input\": test_config_null[\"seed\"],\n",
    "               \"use_tf\": test_config_null[\"use_tf\"],\n",
    "               \"mirror_strategy\": test_config_null[\"mirror_strategy\"],\n",
    "               \"verbose\": False}"
   ]
  },
  {
   "cell_type": "code",
   "execution_count": 15,
   "metadata": {},
   "outputs": [],
   "source": [
    "file_path = os.path.join(model_dir, \"exclusion_limits.json\")\n",
    "if os.path.exists(file_path):\n",
    "    try:\n",
    "        with open(file_path, \"r\") as file:\n",
    "            existing_data = json.load(file)\n",
    "    except json.JSONDecodeError:\n",
    "        existing_data = {}\n",
    "else:\n",
    "    existing_data = {}\n",
    "    \n",
    "# Sort the dictionary by keys\n",
    "existing_data = dict(sorted(existing_data.items()))\n",
    "\n",
    "# Save the sorted dictionary back to a JSON file\n",
    "with open(file_path, 'w') as f:\n",
    "    json.dump(existing_data, f, cls=GMetrics.utils.CustomEncoder, indent=4) # type: ignore"
   ]
  },
  {
   "cell_type": "code",
   "execution_count": 16,
   "metadata": {},
   "outputs": [
    {
     "name": "stdout",
     "output_type": "stream",
     "text": [
      "Upper bounds for nplm with mean deformation already loaded.\n",
      "Central bounds for nplm with mean deformation already loaded.\n",
      "Lower bounds for nplm with mean deformation already loaded.\n",
      "Upper bounds for nplm with cov_diag deformation already loaded.\n",
      "Central bounds for nplm with cov_diag deformation already loaded.\n",
      "Lower bounds for nplm with cov_diag deformation already loaded.\n",
      "Upper bounds for nplm with cov_off_diag deformation already loaded.\n",
      "Central bounds for nplm with cov_off_diag deformation already loaded.\n",
      "Lower bounds for nplm with cov_off_diag deformation already loaded.\n",
      "Upper bounds for nplm with power_abs_up deformation already loaded.\n",
      "Central bounds for nplm with power_abs_up deformation already loaded.\n",
      "Lower bounds for nplm with power_abs_up deformation already loaded.\n",
      "Upper bounds for nplm with power_abs_down deformation already loaded.\n",
      "Central bounds for nplm with power_abs_down deformation already loaded.\n",
      "Lower bounds for nplm with power_abs_down deformation already loaded.\n",
      "Upper bounds for nplm with random_normal deformation already loaded.\n",
      "Central bounds for nplm with random_normal deformation already loaded.\n",
      "Lower bounds for nplm with random_normal deformation already loaded.\n",
      "Upper bounds for nplm with random_uniform deformation already loaded.\n",
      "Central bounds for nplm with random_uniform deformation already loaded.\n",
      "Lower bounds for nplm with random_uniform deformation already loaded.\n",
      "dict_keys(['nplm_mean_upper_2024-11-06T17:08:01.904759', 'nplm_mean_central_2024-11-06T19:37:26.678572', 'nplm_mean_lower_2024-11-06T21:49:34.287788', 'nplm_cov_diag_upper_2024-11-06T22:45:34.816961', 'nplm_cov_diag_central_2024-11-07T00:57:33.147291', 'nplm_cov_diag_lower_2024-11-07T01:38:47.413273', 'nplm_cov_off_diag_upper_2024-11-07T02:17:34.342478', 'nplm_cov_off_diag_central_2024-11-07T03:50:29.745719', 'nplm_cov_off_diag_lower_2024-11-07T04:28:06.994596', 'nplm_power_abs_up_upper_2024-11-07T05:07:41.566893', 'nplm_power_abs_up_central_2024-11-07T06:51:13.850368', 'nplm_power_abs_up_lower_2024-11-07T07:27:53.659841', 'nplm_power_abs_down_upper_2024-11-07T08:04:31.714874', 'nplm_power_abs_down_central_2024-11-07T09:47:55.459574', 'nplm_power_abs_down_lower_2024-11-07T10:24:38.144929', 'nplm_random_normal_upper_2024-11-07T11:03:41.060256', 'nplm_random_normal_central_2024-11-07T12:07:27.193104', 'nplm_random_normal_lower_2024-11-07T12:39:39.388604', 'nplm_random_uniform_upper_2024-11-07T13:14:05.772488', 'nplm_random_uniform_central_2024-11-07T14:10:51.820894', 'nplm_random_uniform_lower_2024-11-07T14:43:08.028480'])\n"
     ]
    }
   ],
   "source": [
    "deformations = [\"mean\", \"cov_diag\", \"cov_off_diag\", \"power_abs_up\", \"power_abs_down\", \"random_normal\", \"random_uniform\"]\n",
    "bounds = [\"upper\", \"central\", \"lower\"]\n",
    "global_results = {}\n",
    "\n",
    "for deformation in deformations:\n",
    "    eps_max = 1\n",
    "    for bound in bounds:\n",
    "        try:\n",
    "            result = {k: v for k, v in {k: v for k, v in existing_data.items() if v[\"null_config\"][\"name\"] == nplm_config[\"name\"] and v[\"deformation\"] == deformation and v[\"bound\"] == bound}.items() if v[\"exclusion_list\"] != []}\n",
    "        except:\n",
    "            result = {}\n",
    "        if result == {}:\n",
    "            print(f\"Computing {bound} bounds for {nplm_config['name']} with {deformation} deformation.\")\n",
    "            result = compute_exclusion_bisection_np(dist_1,\n",
    "                                                    metric_config = nplm_config,\n",
    "                                                    test_kwargs = test_kwargs,\n",
    "                                                    model_dir = model_dir,\n",
    "                                                    deformation = deformation,\n",
    "                                                    seed_dist = 0,\n",
    "                                                    x_tol = 0.01,\n",
    "                                                    fn_tol = 0.05,\n",
    "                                                    bound = bound,\n",
    "                                                    eps_min = 0.,\n",
    "                                                    eps_max = eps_max,\n",
    "                                                    max_iterations = 50,\n",
    "                                                    save = True,\n",
    "                                                    filename = \"exclusion_limits.json\",\n",
    "                                                    verbose = True)\n",
    "            eps_max = list(result.values())[0][\"exclusion_list\"][-1][3]\n",
    "        else:\n",
    "            print(f\"{bound.capitalize()} bounds for {nplm_config['name']} with {deformation} deformation already loaded.\")\n",
    "        global_results.update(result)\n",
    "        \n",
    "print(global_results.keys())"
   ]
  },
  {
   "cell_type": "markdown",
   "metadata": {},
   "source": [
    "## Show and save results"
   ]
  },
  {
   "cell_type": "code",
   "execution_count": 17,
   "metadata": {},
   "outputs": [],
   "source": [
    "import notebooks.shared as shared"
   ]
  },
  {
   "cell_type": "code",
   "execution_count": 18,
   "metadata": {},
   "outputs": [
    {
     "name": "stdout",
     "output_type": "stream",
     "text": [
      "Metric: nplm\n",
      "Metric: nplm\n",
      "Metric: nplm\n",
      "Metric: nplm\n",
      "Metric: nplm\n",
      "Metric: nplm\n",
      "Metric: nplm\n",
      "Metric: nplm\n",
      "Metric: nplm\n",
      "Metric: nplm\n",
      "Metric: nplm\n",
      "Metric: nplm\n",
      "Metric: nplm\n",
      "Metric: nplm\n",
      "Metric: nplm\n",
      "Metric: nplm\n",
      "Metric: nplm\n",
      "Metric: nplm\n",
      "Metric: nplm\n",
      "Metric: nplm\n",
      "Metric: nplm\n"
     ]
    }
   ],
   "source": [
    "results_df, times_df = shared.generate_result_dataframe_nplm(global_results, null_times)"
   ]
  },
  {
   "cell_type": "code",
   "execution_count": 19,
   "metadata": {},
   "outputs": [
    {
     "name": "stdout",
     "output_type": "stream",
     "text": [
      "  Statistic Deformation  $N$  $n=m$  $n_{\\mathrm{iter}}$  \\\n",
      "2      nplm        mean    5  10000                50000   \n",
      "\n",
      "    $\\epsilon_{95\\%\\mathrm{CL}}$   $\\epsilon_{99\\%\\mathrm{CL}}$    t (s)  \\\n",
      "2  $0.00423_{-0.0014}^{+0.0013}$  $0.00515_{-0.0012}^{+0.0011}$  $18283$   \n",
      "\n",
      "                         95%CL                        99%CL  \\\n",
      "2  [0.00287, 0.00423, 0.00551]  [0.00396, 0.00515, 0.00627]   \n",
      "\n",
      "                                                time  \n",
      "2  [6995.281353050013, 7927.606525200001, 3360.52...  \n"
     ]
    }
   ],
   "source": [
    "print(results_df[results_df[\"Deformation\"] == \"mean\"])"
   ]
  },
  {
   "cell_type": "code",
   "execution_count": 20,
   "metadata": {},
   "outputs": [
    {
     "data": {
      "text/html": [
       "<div>\n",
       "<style scoped>\n",
       "    .dataframe tbody tr th:only-of-type {\n",
       "        vertical-align: middle;\n",
       "    }\n",
       "\n",
       "    .dataframe tbody tr th {\n",
       "        vertical-align: top;\n",
       "    }\n",
       "\n",
       "    .dataframe thead th {\n",
       "        text-align: right;\n",
       "    }\n",
       "</style>\n",
       "<table border=\"1\" class=\"dataframe\">\n",
       "  <thead>\n",
       "    <tr style=\"text-align: right;\">\n",
       "      <th></th>\n",
       "      <th>Statistic</th>\n",
       "      <th>$\\epsilon^{\\mu}_{95\\%\\mathrm{CL}}$</th>\n",
       "      <th>$\\epsilon^{\\mu}_{99\\%\\mathrm{CL}}$</th>\n",
       "      <th>$t^{\\mu}$ (s)</th>\n",
       "    </tr>\n",
       "  </thead>\n",
       "  <tbody>\n",
       "    <tr>\n",
       "      <th>2</th>\n",
       "      <td>nplm</td>\n",
       "      <td>$0.00423_{-0.0014}^{+0.0013}$</td>\n",
       "      <td>$0.00515_{-0.0012}^{+0.0011}$</td>\n",
       "      <td>$18283$</td>\n",
       "    </tr>\n",
       "  </tbody>\n",
       "</table>\n",
       "</div>"
      ],
      "text/plain": [
       "  Statistic $\\epsilon^{\\mu}_{95\\%\\mathrm{CL}}$  \\\n",
       "2      nplm      $0.00423_{-0.0014}^{+0.0013}$   \n",
       "\n",
       "  $\\epsilon^{\\mu}_{99\\%\\mathrm{CL}}$ $t^{\\mu}$ (s)  \n",
       "2      $0.00515_{-0.0012}^{+0.0011}$       $18283$  "
      ]
     },
     "metadata": {},
     "output_type": "display_data"
    },
    {
     "data": {
      "text/html": [
       "<div>\n",
       "<style scoped>\n",
       "    .dataframe tbody tr th:only-of-type {\n",
       "        vertical-align: middle;\n",
       "    }\n",
       "\n",
       "    .dataframe tbody tr th {\n",
       "        vertical-align: top;\n",
       "    }\n",
       "\n",
       "    .dataframe thead th {\n",
       "        text-align: right;\n",
       "    }\n",
       "</style>\n",
       "<table border=\"1\" class=\"dataframe\">\n",
       "  <thead>\n",
       "    <tr style=\"text-align: right;\">\n",
       "      <th></th>\n",
       "      <th>Statistic</th>\n",
       "      <th>$\\epsilon^{\\Sigma_{ii}}_{95\\%\\mathrm{CL}}$</th>\n",
       "      <th>$\\epsilon^{\\Sigma_{ii}}_{99\\%\\mathrm{CL}}$</th>\n",
       "      <th>$t^{\\Sigma_{ii}}$ (s)</th>\n",
       "    </tr>\n",
       "  </thead>\n",
       "  <tbody>\n",
       "    <tr>\n",
       "      <th>0</th>\n",
       "      <td>nplm</td>\n",
       "      <td>$0.00092_{-0.00032}^{+0.00031}$</td>\n",
       "      <td>$0.00112_{-0.00027}^{+0.0003}$</td>\n",
       "      <td>$12719$</td>\n",
       "    </tr>\n",
       "  </tbody>\n",
       "</table>\n",
       "</div>"
      ],
      "text/plain": [
       "  Statistic $\\epsilon^{\\Sigma_{ii}}_{95\\%\\mathrm{CL}}$  \\\n",
       "0      nplm            $0.00092_{-0.00032}^{+0.00031}$   \n",
       "\n",
       "  $\\epsilon^{\\Sigma_{ii}}_{99\\%\\mathrm{CL}}$ $t^{\\Sigma_{ii}}$ (s)  \n",
       "0             $0.00112_{-0.00027}^{+0.0003}$               $12719$  "
      ]
     },
     "metadata": {},
     "output_type": "display_data"
    },
    {
     "data": {
      "text/html": [
       "<div>\n",
       "<style scoped>\n",
       "    .dataframe tbody tr th:only-of-type {\n",
       "        vertical-align: middle;\n",
       "    }\n",
       "\n",
       "    .dataframe tbody tr th {\n",
       "        vertical-align: top;\n",
       "    }\n",
       "\n",
       "    .dataframe thead th {\n",
       "        text-align: right;\n",
       "    }\n",
       "</style>\n",
       "<table border=\"1\" class=\"dataframe\">\n",
       "  <thead>\n",
       "    <tr style=\"text-align: right;\">\n",
       "      <th></th>\n",
       "      <th>Statistic</th>\n",
       "      <th>$\\epsilon^{\\Sigma_{i\\neq j}}_{95\\%\\mathrm{CL}}$</th>\n",
       "      <th>$\\epsilon^{\\Sigma_{i\\neq j}}_{99\\%\\mathrm{CL}}$</th>\n",
       "      <th>$t^{\\Sigma_{i\\neq j}}$ (s)</th>\n",
       "    </tr>\n",
       "  </thead>\n",
       "  <tbody>\n",
       "    <tr>\n",
       "      <th>1</th>\n",
       "      <td>nplm</td>\n",
       "      <td>$0.00142_{-0.00052}^{+0.00051}$</td>\n",
       "      <td>$0.0018_{-0.00045}^{+0.0004}$</td>\n",
       "      <td>$10207$</td>\n",
       "    </tr>\n",
       "  </tbody>\n",
       "</table>\n",
       "</div>"
      ],
      "text/plain": [
       "  Statistic $\\epsilon^{\\Sigma_{i\\neq j}}_{95\\%\\mathrm{CL}}$  \\\n",
       "1      nplm                 $0.00142_{-0.00052}^{+0.00051}$   \n",
       "\n",
       "  $\\epsilon^{\\Sigma_{i\\neq j}}_{99\\%\\mathrm{CL}}$ $t^{\\Sigma_{i\\neq j}}$ (s)  \n",
       "1                   $0.0018_{-0.00045}^{+0.0004}$                    $10207$  "
      ]
     },
     "metadata": {},
     "output_type": "display_data"
    },
    {
     "data": {
      "text/html": [
       "<div>\n",
       "<style scoped>\n",
       "    .dataframe tbody tr th:only-of-type {\n",
       "        vertical-align: middle;\n",
       "    }\n",
       "\n",
       "    .dataframe tbody tr th {\n",
       "        vertical-align: top;\n",
       "    }\n",
       "\n",
       "    .dataframe thead th {\n",
       "        text-align: right;\n",
       "    }\n",
       "</style>\n",
       "<table border=\"1\" class=\"dataframe\">\n",
       "  <thead>\n",
       "    <tr style=\"text-align: right;\">\n",
       "      <th></th>\n",
       "      <th>Statistic</th>\n",
       "      <th>$\\epsilon^{\\rm{pow}_{+}}_{95\\%\\mathrm{CL}}$</th>\n",
       "      <th>$\\epsilon^{\\rm{pow}_{+}}_{99\\%\\mathrm{CL}}$</th>\n",
       "      <th>$t^{\\rm{pow}_{+}}$ (s)</th>\n",
       "    </tr>\n",
       "  </thead>\n",
       "  <tbody>\n",
       "    <tr>\n",
       "      <th>4</th>\n",
       "      <td>nplm</td>\n",
       "      <td>$0.0006_{-0.0002}^{+0.0002}$</td>\n",
       "      <td>$0.00073_{-0.00017}^{+0.00019}$</td>\n",
       "      <td>$10610$</td>\n",
       "    </tr>\n",
       "  </tbody>\n",
       "</table>\n",
       "</div>"
      ],
      "text/plain": [
       "  Statistic $\\epsilon^{\\rm{pow}_{+}}_{95\\%\\mathrm{CL}}$  \\\n",
       "4      nplm                $0.0006_{-0.0002}^{+0.0002}$   \n",
       "\n",
       "  $\\epsilon^{\\rm{pow}_{+}}_{99\\%\\mathrm{CL}}$ $t^{\\rm{pow}_{+}}$ (s)  \n",
       "4             $0.00073_{-0.00017}^{+0.00019}$                $10610$  "
      ]
     },
     "metadata": {},
     "output_type": "display_data"
    },
    {
     "data": {
      "text/html": [
       "<div>\n",
       "<style scoped>\n",
       "    .dataframe tbody tr th:only-of-type {\n",
       "        vertical-align: middle;\n",
       "    }\n",
       "\n",
       "    .dataframe tbody tr th {\n",
       "        vertical-align: top;\n",
       "    }\n",
       "\n",
       "    .dataframe thead th {\n",
       "        text-align: right;\n",
       "    }\n",
       "</style>\n",
       "<table border=\"1\" class=\"dataframe\">\n",
       "  <thead>\n",
       "    <tr style=\"text-align: right;\">\n",
       "      <th></th>\n",
       "      <th>Statistic</th>\n",
       "      <th>$\\epsilon^{\\rm{pow}_{-}}_{95\\%\\mathrm{CL}}$</th>\n",
       "      <th>$\\epsilon^{\\rm{pow}_{-}}_{99\\%\\mathrm{CL}}$</th>\n",
       "      <th>$t^{\\rm{pow}_{-}}$ (s)</th>\n",
       "    </tr>\n",
       "  </thead>\n",
       "  <tbody>\n",
       "    <tr>\n",
       "      <th>3</th>\n",
       "      <td>nplm</td>\n",
       "      <td>$0.00064_{-0.00024}^{+0.00024}$</td>\n",
       "      <td>$0.00078_{-0.00022}^{+0.00022}$</td>\n",
       "      <td>$10749$</td>\n",
       "    </tr>\n",
       "  </tbody>\n",
       "</table>\n",
       "</div>"
      ],
      "text/plain": [
       "  Statistic $\\epsilon^{\\rm{pow}_{-}}_{95\\%\\mathrm{CL}}$  \\\n",
       "3      nplm             $0.00064_{-0.00024}^{+0.00024}$   \n",
       "\n",
       "  $\\epsilon^{\\rm{pow}_{-}}_{99\\%\\mathrm{CL}}$ $t^{\\rm{pow}_{-}}$ (s)  \n",
       "3             $0.00078_{-0.00022}^{+0.00022}$                $10749$  "
      ]
     },
     "metadata": {},
     "output_type": "display_data"
    },
    {
     "data": {
      "text/html": [
       "<div>\n",
       "<style scoped>\n",
       "    .dataframe tbody tr th:only-of-type {\n",
       "        vertical-align: middle;\n",
       "    }\n",
       "\n",
       "    .dataframe tbody tr th {\n",
       "        vertical-align: top;\n",
       "    }\n",
       "\n",
       "    .dataframe thead th {\n",
       "        text-align: right;\n",
       "    }\n",
       "</style>\n",
       "<table border=\"1\" class=\"dataframe\">\n",
       "  <thead>\n",
       "    <tr style=\"text-align: right;\">\n",
       "      <th></th>\n",
       "      <th>Statistic</th>\n",
       "      <th>$\\epsilon^{\\mathcal{N}}_{95\\%\\mathrm{CL}}$</th>\n",
       "      <th>$\\epsilon^{\\mathcal{N}}_{99\\%\\mathrm{CL}}$</th>\n",
       "      <th>$t^{\\mathcal{N}}$ (s)</th>\n",
       "    </tr>\n",
       "  </thead>\n",
       "  <tbody>\n",
       "    <tr>\n",
       "      <th>5</th>\n",
       "      <td>nplm</td>\n",
       "      <td>$0.0707_{-0.013}^{+0.011}$</td>\n",
       "      <td>$0.07922_{-0.0096}^{+0.0091}$</td>\n",
       "      <td>$7824$</td>\n",
       "    </tr>\n",
       "  </tbody>\n",
       "</table>\n",
       "</div>"
      ],
      "text/plain": [
       "  Statistic $\\epsilon^{\\mathcal{N}}_{95\\%\\mathrm{CL}}$  \\\n",
       "5      nplm                 $0.0707_{-0.013}^{+0.011}$   \n",
       "\n",
       "  $\\epsilon^{\\mathcal{N}}_{99\\%\\mathrm{CL}}$ $t^{\\mathcal{N}}$ (s)  \n",
       "5              $0.07922_{-0.0096}^{+0.0091}$                $7824$  "
      ]
     },
     "metadata": {},
     "output_type": "display_data"
    },
    {
     "data": {
      "text/html": [
       "<div>\n",
       "<style scoped>\n",
       "    .dataframe tbody tr th:only-of-type {\n",
       "        vertical-align: middle;\n",
       "    }\n",
       "\n",
       "    .dataframe tbody tr th {\n",
       "        vertical-align: top;\n",
       "    }\n",
       "\n",
       "    .dataframe thead th {\n",
       "        text-align: right;\n",
       "    }\n",
       "</style>\n",
       "<table border=\"1\" class=\"dataframe\">\n",
       "  <thead>\n",
       "    <tr style=\"text-align: right;\">\n",
       "      <th></th>\n",
       "      <th>Statistic</th>\n",
       "      <th>$\\epsilon^{\\mathcal{U}}_{95\\%\\mathrm{CL}}$</th>\n",
       "      <th>$\\epsilon^{\\mathcal{U}}_{99\\%\\mathrm{CL}}$</th>\n",
       "      <th>$t^{\\mathcal{U}}$ (s)</th>\n",
       "    </tr>\n",
       "  </thead>\n",
       "  <tbody>\n",
       "    <tr>\n",
       "      <th>6</th>\n",
       "      <td>nplm</td>\n",
       "      <td>$0.12346_{-0.023}^{+0.02}$</td>\n",
       "      <td>$0.13671_{-0.017}^{+0.016}$</td>\n",
       "      <td>$7412$</td>\n",
       "    </tr>\n",
       "  </tbody>\n",
       "</table>\n",
       "</div>"
      ],
      "text/plain": [
       "  Statistic $\\epsilon^{\\mathcal{U}}_{95\\%\\mathrm{CL}}$  \\\n",
       "6      nplm                 $0.12346_{-0.023}^{+0.02}$   \n",
       "\n",
       "  $\\epsilon^{\\mathcal{U}}_{99\\%\\mathrm{CL}}$ $t^{\\mathcal{U}}$ (s)  \n",
       "6                $0.13671_{-0.017}^{+0.016}$                $7412$  "
      ]
     },
     "metadata": {},
     "output_type": "display_data"
    }
   ],
   "source": [
    "results_df_mean, results_df_cov_diag, results_df_cov_off_diag, results_df_power_abs_up, results_df_power_abs_down, results_df_random_normal, results_df_random_uniform = shared.get_individual_dfs_nplm(results_df, show = True)"
   ]
  },
  {
   "cell_type": "code",
   "execution_count": 21,
   "metadata": {},
   "outputs": [
    {
     "name": "stdout",
     "output_type": "stream",
     "text": [
      "\\begin{tabular}{l|llr|llr}\n",
      "\t\\toprule\n",
      "\t\\multicolumn{7}{c}{{\\bf MoG model with $\\mathbf{d=5}$, $\\mathbf{q=3}$ and $\\mathbf{n=m=5\\cdot 10^{4}}$}} \\\\\n",
      "\t\\toprule\n",
      "\t\\multicolumn{1}{c}{} & \\multicolumn{3}{c}{$\\mu$-deformation} & \\multicolumn{3}{c}{$\\Sigma_{ii}$-deformation} \\\\\n",
      "\tStatistic & $\\epsilon_{95\\%\\mathrm{CL}}$ & $\\epsilon_{99\\%\\mathrm{CL}}$ & $t$ (s) & $\\epsilon_{95\\%\\mathrm{CL}}$ & $\\epsilon_{99\\%\\mathrm{CL}}$ & $t$ (s) \\\\\n",
      "\t\\midrule\n",
      "\t$t_{\\mathrm{NPLM}}$ & $0.00423_{-0.0014}^{+0.0013}$ & $0.00515_{-0.0012}^{+0.0011}$ & $18283$ & $0.00092_{-0.00032}^{+0.00031}$ & $0.00112_{-0.00027}^{+0.0003}$ & $12719$ \\\\\n",
      "\t\\toprule\n",
      "\t\\multicolumn{1}{c}{} & \\multicolumn{3}{c}{$\\Sigma_{i\\neq j}$-deformation} & \\multicolumn{3}{c}{$\\rm{pow}_{+}$-deformation} \\\\\n",
      "\tStatistic & $\\epsilon_{95\\%\\mathrm{CL}}$ & $\\epsilon_{99\\%\\mathrm{CL}}$ & $t$ (s) & $\\epsilon_{95\\%\\mathrm{CL}}$ & $\\epsilon_{99\\%\\mathrm{CL}}$ & $t$ (s) \\\\\n",
      "\t\\midrule\n",
      "\t$t_{\\mathrm{NPLM}}$ & $0.00142_{-0.00052}^{+0.00051}$ & $0.0018_{-0.00045}^{+0.0004}$ & $10207$ & $0.0006_{-0.0002}^{+0.0002}$ & $0.00073_{-0.00017}^{+0.00019}$ & $10610$ \\\\\n",
      "\t\\toprule\n",
      "\t\\multicolumn{1}{c}{} & \\multicolumn{3}{c}{$\\rm{pow}_{-}$-deformation} & \\multicolumn{3}{c}{$\\mathcal{N}$-deformation} \\\\\n",
      "\tStatistic & $\\epsilon_{95\\%\\mathrm{CL}}$ & $\\epsilon_{99\\%\\mathrm{CL}}$ & $t$ (s) & $\\epsilon_{95\\%\\mathrm{CL}}$ & $\\epsilon_{99\\%\\mathrm{CL}}$ & $t$ (s) \\\\\n",
      "\t\\midrule\n",
      "\t$t_{\\mathrm{NPLM}}$ & $0.00064_{-0.00024}^{+0.00024}$ & $0.00078_{-0.00022}^{+0.00022}$ & $10749$ & $0.0707_{-0.013}^{+0.011}$ & $0.07922_{-0.0096}^{+0.0091}$ & $7824$ \\\\\n",
      "\t\\toprule\n",
      "\t\\multicolumn{1}{c}{} & \\multicolumn{3}{c}{$\\mathcal{U}$-deformation} & \\multicolumn{3}{c}{Timing} \\\\\n",
      "\tStatistic & $\\epsilon_{95\\%\\mathrm{CL}}$ & $\\epsilon_{99\\%\\mathrm{CL}}$ & $t$ (s) & $t^{\\mathrm{null}}$ (s) \\\\\n",
      "\t\\midrule\n",
      "\t$t_{\\mathrm{NPLM}}$ & $0.12346_{-0.023}^{+0.02}$ & $0.13671_{-0.017}^{+0.016}$ & $7412$ & $23042$ \\\\\n",
      "\t\\bottomrule\n",
      "\\end{tabular}\n"
     ]
    },
    {
     "name": "stderr",
     "output_type": "stream",
     "text": [
      "/leonardo_scratch/fast/INF24_pmlhep_1/sgrossi0/projects/TwoSampleTest/NPLMMetrics/notebooks/shared.py:554: FutureWarning: The behavior of Series.replace (and DataFrame.replace) with CategoricalDtype is deprecated. In a future version, replace will only be used for cases that preserve the categories. To change the categories, use ser.cat.rename_categories instead.\n",
      "  return df.replace(column_replacements)\n"
     ]
    }
   ],
   "source": [
    "#tex_string = shared.generate_result_latex_wide(results_df, times_df, nstring = \"10^{4}\")\n",
    "tex_string = shared.generate_result_latex_nplm(results_df, times_df, title = \"{\\\\bf MoG model with $\\\\mathbf{d=5}$, $\\\\mathbf{q=3}$ and $\\\\mathbf{n=m=5\\cdot 10^{4}}$}\")\n",
    "print(tex_string)"
   ]
  },
  {
   "cell_type": "code",
   "execution_count": 22,
   "metadata": {},
   "outputs": [
    {
     "name": "stdout",
     "output_type": "stream",
     "text": [
      "LaTeX table code has been written to results/5D_mixture/5D_50K/results_table.tex\n"
     ]
    }
   ],
   "source": [
    "shared.save_latex(tex_string, model_dir)"
   ]
  },
  {
   "cell_type": "code",
   "execution_count": 23,
   "metadata": {},
   "outputs": [
    {
     "name": "stdout",
     "output_type": "stream",
     "text": [
      "\\begin{tabular}{l|llr|llr}\n",
      "\t\\toprule\n",
      "\t\\multicolumn{7}{c}{{\\bf MoG model with $\\mathbf{d=5}$, $\\mathbf{q=3}$, and $\\mathbf{n=m=5\\cdot 10^{4}}$}} \\\\\n",
      "\t\\toprule\n",
      "\t\\multicolumn{1}{c}{} & \\multicolumn{3}{c}{$\\mu$-deformation} & \\multicolumn{3}{c}{$\\Sigma_{ii}$-deformation} \\\\\n",
      "\tStatistic & $\\epsilon_{95\\%\\mathrm{CL}}$ & $\\epsilon_{99\\%\\mathrm{CL}}$ & $t$ (s) & $\\epsilon_{95\\%\\mathrm{CL}}$ & $\\epsilon_{99\\%\\mathrm{CL}}$ & $t$ (s) \\\\\n",
      "\t\\midrule\n",
      "\t$t_{\\mathrm{SW}}$ & $0.03867_{-0.015}^{+0.015}$ & $0.05335_{-0.015}^{+0.015}$ & $1312$ & $0.01366_{-0.0044}^{+0.0039}$ & $0.01898_{-0.0039}^{+0.0035}$ & $1415$ \\\\\n",
      "\t$t_{\\overline{\\mathrm{KS}}}$ & ${\\mathbf{0.002_{-0.00083}^{+0.00077}}}$ & ${\\mathbf{0.00277_{-0.00076}^{+0.00075}}}$ & ${\\mathbf{1308}}$ & ${\\mathbf{0.00121_{-0.00039}^{+0.00032}}}$ & ${\\mathbf{0.00157_{-0.00033}^{+0.00031}}}$ & ${\\mathbf{1315}}$ \\\\\n",
      "\t$t_{\\mathrm{SKS}}$ & $0.02325_{-0.0085}^{+0.0079}$ & $0.03165_{-0.0076}^{+0.0076}$ & $1439$ & $0.00731_{-0.0022}^{+0.0018}$ & $0.00993_{-0.0017}^{+0.0015}$ & $1539$ \\\\\n",
      "\t$t_{\\mathrm{FGD}}$ & $0.04381_{-0.019}^{+0.026}$ & $0.06082_{-0.018}^{+0.024}$ & $1536$ & $0.0147_{-0.0043}^{+0.004}$ & $0.02005_{-0.0035}^{+0.0035}$ & $1610$ \\\\\n",
      "\t$t_{\\mathrm{MMD}}$ & $0.02669_{-0.011}^{+0.014}$ & $0.03545_{-0.011}^{+0.014}$ & $8990$ & $0.00629_{-0.0025}^{+0.0031}$ & $0.00833_{-0.0023}^{+0.0029}$ & $9570$ \\\\\n",
      "\\rowcolor{red!35}\t$t_{\\mathrm{NPLM}}$ & $0.00423_{-0.0014}^{+0.0013}$ & $0.00515_{-0.0012}^{+0.0011}$ & $18283$ & $0.00092_{-0.00032}^{+0.00031}$ & $0.00112_{-0.00027}^{+0.0003}$ & $12719$ \\\\\n",
      "\t$t_{\\mathrm{LLR}}$ & $0.00036_{-0.0002}^{+0.00019}$ & $0.0005_{-0.0002}^{+0.0002}$ & $2776$ & $0.00011_{-8e-05}^{+7e-05}$ & $0.00016_{-8e-05}^{+8e-05}$ & $3063$ \\\\\n",
      "\t\\toprule\n",
      "\t\\multicolumn{1}{c}{} & \\multicolumn{3}{c}{$\\Sigma_{i\\neq j}$-deformation} & \\multicolumn{3}{c}{$\\rm{pow}_{+}$-deformation} \\\\\n",
      "\tStatistic & $\\epsilon_{95\\%\\mathrm{CL}}$ & $\\epsilon_{99\\%\\mathrm{CL}}$ & $t$ (s) & $\\epsilon_{95\\%\\mathrm{CL}}$ & $\\epsilon_{99\\%\\mathrm{CL}}$ & $t$ (s) \\\\\n",
      "\t\\midrule\n",
      "\t$t_{\\mathrm{SW}}$ & $0.02657_{-0.0077}^{+0.0058}$ & $0.03639_{-0.0059}^{+0.005}$ & $1508$ & $0.00841_{-0.0028}^{+0.0024}$ & $0.01169_{-0.0023}^{+0.0022}$ & $1462$ \\\\\n",
      "\t$t_{\\overline{\\mathrm{KS}}}$ & $1.00116_{-6e-05}^{+0.00055}$ & $1.00165_{-0.00025}^{+0.00018}$ & ${\\mathbf{1404}}$ & ${\\mathbf{0.00142_{-0.00049}^{+0.00043}}}$ & ${\\mathbf{0.00189_{-0.00043}^{+0.00041}}}$ & ${\\mathbf{1326}}$ \\\\\n",
      "\t$t_{\\mathrm{SKS}}$ & $0.02533_{-0.0088}^{+0.0073}$ & $0.03416_{-0.0074}^{+0.0062}$ & $1630$ & $0.00467_{-0.0013}^{+0.001}$ & $0.0063_{-0.001}^{+0.00088}$ & $1552$ \\\\\n",
      "\t$t_{\\mathrm{FGD}}$ & ${\\mathbf{0.01034_{-0.0025}^{+0.0023}}}$ & ${\\mathbf{0.01443_{-0.0022}^{+0.0017}}}$ & $2060$ & $0.0089_{-0.0027}^{+0.0026}$ & $0.01216_{-0.0023}^{+0.0023}$ & $1790$ \\\\\n",
      "\t$t_{\\mathrm{MMD}}$ & $0.02201_{-0.0084}^{+0.0099}$ & $0.02908_{-0.0079}^{+0.0094}$ & $9396$ & $0.00361_{-0.0014}^{+0.0019}$ & $0.00478_{-0.0014}^{+0.0018}$ & $9705$ \\\\\n",
      "\\rowcolor{red!35}\t$t_{\\mathrm{NPLM}}$ & $0.00142_{-0.00052}^{+0.00051}$ & $0.0018_{-0.00045}^{+0.0004}$ & $10207$ & $0.0006_{-0.0002}^{+0.0002}$ & $0.00073_{-0.00017}^{+0.00019}$ & $10610$ \\\\\n",
      "\t$t_{\\mathrm{LLR}}$ & - & - & - & $0.00017_{-9e-05}^{+0.0001}$ & $0.00025_{-0.0001}^{+0.0001}$ & $2854$ \\\\\n",
      "\t\\toprule\n",
      "\t\\multicolumn{1}{c}{} & \\multicolumn{3}{c}{$\\rm{pow}_{-}$-deformation} & \\multicolumn{3}{c}{$\\mathcal{N}$-deformation} \\\\\n",
      "\tStatistic & $\\epsilon_{95\\%\\mathrm{CL}}$ & $\\epsilon_{99\\%\\mathrm{CL}}$ & $t$ (s) & $\\epsilon_{95\\%\\mathrm{CL}}$ & $\\epsilon_{99\\%\\mathrm{CL}}$ & $t$ (s) \\\\\n",
      "\t\\midrule\n",
      "\t$t_{\\mathrm{SW}}$ & $0.00858_{-0.0029}^{+0.0024}$ & $0.01188_{-0.0024}^{+0.0023}$ & $1466$ & $0.16467_{-0.029}^{+0.02}$ & $0.19494_{-0.019}^{+0.015}$ & ${\\mathbf{1187}}$ \\\\\n",
      "\t$t_{\\overline{\\mathrm{KS}}}$ & ${\\mathbf{0.00142_{-0.0005}^{+0.00045}}}$ & ${\\mathbf{0.00188_{-0.00044}^{+0.00042}}}$ & ${\\mathbf{1320}}$ & ${\\mathbf{0.00546_{-0.0012}^{+0.00092}}}$ & ${\\mathbf{0.00651_{-0.0009}^{+0.00087}}}$ & $1226$ \\\\\n",
      "\t$t_{\\mathrm{SKS}}$ & $0.0048_{-0.0014}^{+0.0011}$ & $0.00642_{-0.0011}^{+0.001}$ & $1562$ & $0.11614_{-0.024}^{+0.016}$ & $0.1371_{-0.017}^{+0.013}$ & $1321$ \\\\\n",
      "\t$t_{\\mathrm{FGD}}$ & $0.0091_{-0.0026}^{+0.0025}$ & $0.01247_{-0.0022}^{+0.0022}$ & $1789$ & $0.1925_{-0.027}^{+0.019}$ & $0.22617_{-0.016}^{+0.014}$ & $1452$ \\\\\n",
      "\t$t_{\\mathrm{MMD}}$ & $0.00374_{-0.0016}^{+0.0019}$ & $0.00492_{-0.0015}^{+0.0019}$ & $9724$ & $0.25293_{-0.048}^{+0.036}$ & $0.28868_{-0.032}^{+0.032}$ & $8612$ \\\\\n",
      "\\rowcolor{red!35}\t$t_{\\mathrm{NPLM}}$ & $0.00064_{-0.00024}^{+0.00024}$ & $0.00078_{-0.00022}^{+0.00022}$ & $10749$ & $0.0707_{-0.013}^{+0.011}$ & $0.07922_{-0.0096}^{+0.0091}$ & $7824$ \\\\\n",
      "\t$t_{\\mathrm{LLR}}$ & $0.00018_{-0.0001}^{+0.0001}$ & $0.00025_{-0.0001}^{+0.0001}$ & $2850$ & - & - & - \\\\\n",
      "\t\\toprule\n",
      "\t\\multicolumn{1}{c}{} & \\multicolumn{3}{c}{$\\mathcal{U}$-deformation} & \\multicolumn{3}{c}{Timing} \\\\\n",
      "\tStatistic & $\\epsilon_{95\\%\\mathrm{CL}}$ & $\\epsilon_{99\\%\\mathrm{CL}}$ & $t$ (s) & $t^{\\mathrm{null}}$ (s) \\\\\n",
      "\t\\midrule\n",
      "\t$t_{\\mathrm{SW}}$ & $0.28418_{-0.05}^{+0.035}$ & $0.33591_{-0.033}^{+0.027}$ & $1344$ & $319$ \\\\\n",
      "\t$t_{\\overline{\\mathrm{KS}}}$ & ${\\mathbf{0.00924_{-0.0019}^{+0.0015}}}$ & ${\\mathbf{0.01096_{-0.0015}^{+0.0013}}}$ & ${\\mathbf{1208}}$ & ${\\mathbf{49}}$ \\\\\n",
      "\t$t_{\\mathrm{SKS}}$ & $0.19824_{-0.04}^{+0.029}$ & $0.23402_{-0.029}^{+0.023}$ & $1271$ & $484$ \\\\\n",
      "\t$t_{\\mathrm{FGD}}$ & $0.33191_{-0.044}^{+0.034}$ & $0.39255_{-0.028}^{+0.022}$ & $1433$ & $1150$ \\\\\n",
      "\t$t_{\\mathrm{MMD}}$ & $0.43535_{-0.079}^{+0.067}$ & $0.5005_{-0.057}^{+0.054}$ & $7010$ & $13839$ \\\\\n",
      "\\rowcolor{red!35}\t$t_{\\mathrm{NPLM}}$ & $0.12346_{-0.023}^{+0.02}$ & $0.13671_{-0.017}^{+0.016}$ & $7412$ & $23042$ \\\\\n",
      "\t$t_{\\mathrm{LLR}}$ & - & - & - & - \\\\\n",
      "\t\\bottomrule\n",
      "\\end{tabular}\n"
     ]
    }
   ],
   "source": [
    "import re\n",
    "      \n",
    "# Path to the old metrics results table\n",
    "file_path_other_metrics = \"/leonardo_scratch/fast/INF24_pmlhep_1/rtorre00/projects/GenerativeModelsMetrics/results/\" + str(ndims) + \"D_mixture/\" + str(ndims) + \"D_\" + str(int(batch_size_test/1000)) + \"K/results_table.tex\"\n",
    "\n",
    "with open(file_path_other_metrics, 'r') as file:\n",
    "    table_other_metrics = file.read()\n",
    "\n",
    "# for each metric I isolate the respective row and color in red NPLM. This is done in order to provide a table with the right ordering of the metrics\n",
    "\n",
    "nplm_rows = []\n",
    "lines_nplm = tex_string.splitlines()\n",
    "for line in lines_nplm:\n",
    "\tif \"$t_{\\mathrm{NPLM}}$\" in line:\n",
    "\t\tnplm_rows.append(\"\\\\rowcolor{red!35}\"+line)\n",
    "\telse:\n",
    "\t\tpass\n",
    "\n",
    "sw_rows = []\n",
    "lines_sw = table_other_metrics.splitlines()\n",
    "for line in lines_sw:\n",
    "\tif \"$t_{\\mathrm{SW}}$\" in line:\n",
    "\t\tsw_rows.append(line)\n",
    "\telse:\n",
    "\t\tpass\n",
    "\n",
    "ks_rows = []\n",
    "lines_ks = table_other_metrics.splitlines()\n",
    "for line in lines_ks:\n",
    "\tif \"$t_{\\overline{\\mathrm{KS}}}$\" in line:\n",
    "\t\tks_rows.append(line)\n",
    "\telse:\n",
    "\t\tpass\n",
    "\n",
    "sks_rows = []\n",
    "lines_sks = table_other_metrics.splitlines()\n",
    "for line in lines_sks:\n",
    "\tif \"$t_{\\mathrm{SKS}}$\" in line:\n",
    "\t\tsks_rows.append(line)\n",
    "\telse:\n",
    "\t\tpass\n",
    "\n",
    "fgd_rows = []\n",
    "lines_fgd = table_other_metrics.splitlines()\n",
    "for line in lines_fgd:\n",
    "\tif \"$t_{\\mathrm{FGD}}$\" in line:\n",
    "\t\tfgd_rows.append(line)\n",
    "\telse:\n",
    "\t\tpass\n",
    "\n",
    "mmd_rows = []\n",
    "lines_mmd = table_other_metrics.splitlines()\n",
    "for line in lines_mmd:\n",
    "\tif \"$t_{\\mathrm{MMD}}$\" in line:\n",
    "\t\tmmd_rows.append(line)\n",
    "\telse:\n",
    "\t\tpass\n",
    "\n",
    "llr_rows = []\n",
    "lines_llr = table_other_metrics.splitlines()\n",
    "for line in lines_llr:\n",
    "\tif \"$t_{\\mathrm{LLR}}$\" in line:\n",
    "\t\tllr_rows.append(line)\n",
    "\telse:\n",
    "\t\tpass\n",
    "\n",
    "lines_old = table_other_metrics.splitlines()\n",
    "new_lines = []\n",
    "i = 0  \n",
    "\n",
    "for lines in lines_old:\n",
    "    if \"$t_{\\\\mathrm{SW}}$\" not in lines and \"$t_{\\\\overline{\\\\mathrm{KS}}}$\" not in lines and \"$t_{\\\\mathrm{SKS}}$\" not in lines and \"$t_{\\\\mathrm{FGD}}$\" not in lines and \"$t_{\\\\mathrm{MMD}}$\" not in lines and \"$t_{\\\\mathrm{LLR}}$\" not in lines:\n",
    "        new_lines.append(lines)\n",
    "    elif \"$t_{\\\\mathrm{SW}}$\" in lines:\n",
    "        new_lines.append(lines)\n",
    "        new_lines.append(ks_rows[i])\n",
    "        new_lines.append(sks_rows[i])\n",
    "        new_lines.append(fgd_rows[i])\n",
    "        new_lines.append(mmd_rows[i])\n",
    "        new_lines.append(nplm_rows[i])\n",
    "        new_lines.append(llr_rows[i])\n",
    "        i = (i + 1) % len(nplm_rows)\n",
    "    else:\n",
    "        pass\n",
    "\n",
    "updated_table = \"\\n\".join(new_lines)\n",
    "\n",
    "print(updated_table)\n"
   ]
  },
  {
   "cell_type": "code",
   "execution_count": 24,
   "metadata": {},
   "outputs": [
    {
     "name": "stdout",
     "output_type": "stream",
     "text": [
      "LaTeX table code has been written to results/5D_mixture/5D_50K/results_table_updated.tex\n"
     ]
    }
   ],
   "source": [
    "shared.save_update_latex(updated_table, model_dir)"
   ]
  },
  {
   "cell_type": "markdown",
   "metadata": {},
   "source": [
    "## Pairwise distance tests"
   ]
  },
  {
   "cell_type": "code",
   "execution_count": 27,
   "metadata": {},
   "outputs": [
    {
     "name": "stdout",
     "output_type": "stream",
     "text": [
      " The 90th percentile is: 9.6\n",
      " The number of points in the plot is: 49995000\n"
     ]
    },
    {
     "data": {
      "image/png": "[encoded data removed]",
      "text/plain": [
       "<Figure size 2000x1000 with 1 Axes>"
      ]
     },
     "metadata": {},
     "output_type": "display_data"
    }
   ],
   "source": [
    "from scipy.spatial.distance import pdist\n",
    "import math\n",
    "ref_sample_for_sigma = dist_1.sample(10000) #care that in NPLM metric I always use a sample with 10000 points to estimate sigma \n",
    "pairwise_distance = pdist(ref_sample_for_sigma)\n",
    "perc = 90\n",
    "percentile_90 = round(np.percentile(pairwise_distance,perc),1)\n",
    "\n",
    "print(f\" The 90th percentile is: {percentile_90}\")\n",
    "print(f\" The number of points in the plot is: {math.comb(10000,2)}\")\n",
    "\n",
    "plt.figure(figsize=(20, 10))\n",
    "plt.hist(pairwise_distance, bins=100000, color='skyblue', edgecolor='black', alpha=0.7)\n",
    "plt.axvline(percentile_90, color='red', linestyle='dashed', linewidth=2, label=f'90th percentile: {percentile_90}')\n",
    "plt.title('Histogram of Pairwise Distances')\n",
    "plt.xlabel('Pairwise Distance')\n",
    "plt.ylabel('Frequency')\n",
    "plt.legend()\n",
    "plt.show()\n",
    "\n",
    "# plt.figure(figsize=(20, 10))\n",
    "# plt.hist(pairwise_distance, bins=100000, color='skyblue', edgecolor='black', alpha=0.7)\n",
    "# plt.axvline(percentile_90, color='red', linestyle='dashed', linewidth=2, label=f'90th percentile: {percentile_90}')\n",
    "# plt.title('Histogram of Pairwise Distances')\n",
    "# plt.yscale('log')\n",
    "# plt.xlabel('Pairwise Distance')\n",
    "# plt.ylabel('Frequency')\n",
    "# plt.legend()\n",
    "# plt.show()\n"
   ]
  }
 ],
 "metadata": {
  "kernelspec": {
   "display_name": "tf2_custom_torch2.2",
   "language": "python",
   "name": "python3"
  },
  "language_info": {
   "codemirror_mode": {
    "name": "ipython",
    "version": 3
   },
   "file_extension": ".py",
   "mimetype": "text/x-python",
   "name": "python",
   "nbconvert_exporter": "python",
   "pygments_lexer": "ipython3",
   "version": "3.11.6"
  }
 },
 "nbformat": 4,
 "nbformat_minor": 2
}
